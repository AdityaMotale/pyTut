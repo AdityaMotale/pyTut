{
 "cells": [
  {
   "cell_type": "markdown",
   "metadata": {},
   "source": [
    "# Layi Bhari Python Classes"
   ]
  },
  {
   "cell_type": "markdown",
   "metadata": {},
   "source": [
    "### Variables and Data Types"
   ]
  },
  {
   "cell_type": "code",
   "execution_count": 5,
   "metadata": {},
   "outputs": [
    {
     "name": "stdout",
     "output_type": "stream",
     "text": [
      "<class 'str'>\n"
     ]
    }
   ],
   "source": [
    "a = 12\n",
    "b = \"string val\"\n",
    "c = 3.5\n",
    "d = True\n",
    "e = [\"val1\", \"val2\", \"val3\"]\n",
    "\n",
    "print(type(b))\n"
   ]
  },
  {
   "cell_type": "markdown",
   "metadata": {},
   "source": [
    "### User Inputs and Input conversion"
   ]
  },
  {
   "cell_type": "code",
   "execution_count": 9,
   "metadata": {},
   "outputs": [
    {
     "name": "stdout",
     "output_type": "stream",
     "text": [
      "<class 'int'>\n"
     ]
    }
   ],
   "source": [
    "a = input(\"enter a number\")\n",
    "\n",
    "b = int(a)\n",
    "\n",
    "print(type(b))\n"
   ]
  },
  {
   "cell_type": "markdown",
   "metadata": {},
   "source": [
    "### Conditional Statements"
   ]
  },
  {
   "cell_type": "code",
   "execution_count": 13,
   "metadata": {},
   "outputs": [
    {
     "name": "stdout",
     "output_type": "stream",
     "text": [
      "pari you are not allowed\n"
     ]
    }
   ],
   "source": [
    "age = 19\n",
    "name = \"pari\"\n",
    "\n",
    "if (age > 21):\n",
    "    print(name + \" \" + \"you are allowed\")\n",
    "else:\n",
    "    print(name + \" \" + \"you are not allowed\")\n"
   ]
  },
  {
   "cell_type": "markdown",
   "metadata": {},
   "source": [
    "### String operations"
   ]
  },
  {
   "cell_type": "code",
   "execution_count": 20,
   "metadata": {},
   "outputs": [
    {
     "name": "stdout",
     "output_type": "stream",
     "text": [
      "str 1 str 2\n",
      "STR 1\n"
     ]
    }
   ],
   "source": [
    "a = \"str 1\"\n",
    "b = \"str 2\"\n",
    "\n",
    "print(a + \" \" + b)\n"
   ]
  },
  {
   "cell_type": "markdown",
   "metadata": {},
   "source": [
    "### Loops (FOR and WHILE)"
   ]
  },
  {
   "cell_type": "code",
   "execution_count": 3,
   "metadata": {},
   "outputs": [
    {
     "name": "stdout",
     "output_type": "stream",
     "text": [
      "0\n",
      "1\n",
      "2\n",
      "3\n",
      "4\n",
      "5\n"
     ]
    }
   ],
   "source": [
    "list = [\"a\", \"b\", \"c\", \"d\", \"e\"]\n",
    "\n",
    "l = len(list)\n",
    "\n",
    "c = 0\n",
    "\n",
    "while (c < l):\n",
    "    print(list[c])\n",
    "    c = c+1\n",
    "\n",
    "for i in range(6):\n",
    "    print(i)\n"
   ]
  },
  {
   "cell_type": "markdown",
   "metadata": {},
   "source": [
    "### Functions"
   ]
  },
  {
   "cell_type": "code",
   "execution_count": 7,
   "metadata": {},
   "outputs": [
    {
     "name": "stdout",
     "output_type": "stream",
     "text": [
      "hello saaad shaikh\n"
     ]
    }
   ],
   "source": [
    "def fun1():\n",
    "    name = input(\"enter your name\")\n",
    "    surname = input(\"enter your surname\")\n",
    "    print(\"hello\" + \" \" + name + \" \" + surname)\n",
    "\n",
    "\n",
    "fun1()\n"
   ]
  },
  {
   "cell_type": "code",
   "execution_count": 11,
   "metadata": {},
   "outputs": [
    {
     "name": "stdout",
     "output_type": "stream",
     "text": [
      "101\n"
     ]
    }
   ],
   "source": [
    "def fun2(a, b):\n",
    "    print(a+b)\n",
    "\n",
    "\n",
    "fun2(2, 99)\n"
   ]
  },
  {
   "cell_type": "markdown",
   "metadata": {},
   "source": [
    "### Function Program\n",
    "\n",
    "Take a value from the user and print numbers up to it by using a for loop inside a function"
   ]
  },
  {
   "cell_type": "code",
   "execution_count": 14,
   "metadata": {},
   "outputs": [
    {
     "name": "stdout",
     "output_type": "stream",
     "text": [
      "0\n",
      "1\n",
      "2\n",
      "3\n",
      "4\n",
      "5\n",
      "6\n"
     ]
    }
   ],
   "source": [
    "def fun3(a):\n",
    "    for i in range(a + 1):\n",
    "        print(i)\n",
    "\n",
    "\n",
    "fun3(6)\n"
   ]
  },
  {
   "cell_type": "code",
   "execution_count": 18,
   "metadata": {},
   "outputs": [
    {
     "name": "stdout",
     "output_type": "stream",
     "text": [
      "4\n",
      "-2\n",
      "0.3333333333333333\n"
     ]
    }
   ],
   "source": [
    "def fun5(a, b, c):\n",
    "    if(c == \"+\"):\n",
    "        print(a+b)\n",
    "    elif(c == \"-\"):\n",
    "        print(a-b)\n",
    "    elif(c == \"*\"):\n",
    "        print(a*b)\n",
    "    else:\n",
    "        print(a/b)\n",
    "\n",
    "\n",
    "fun5(1, 3, \"+\")\n",
    "fun5(1, 3, \"-\")\n",
    "fun5(1, 3, \"*\")\n",
    "fun5(1, 3, \"0\")\n"
   ]
  },
  {
   "cell_type": "code",
   "execution_count": null,
   "metadata": {},
   "outputs": [],
   "source": []
  }
 ],
 "metadata": {
  "kernelspec": {
   "display_name": "Python 3.8.10 64-bit (microsoft store)",
   "language": "python",
   "name": "python3"
  },
  "language_info": {
   "codemirror_mode": {
    "name": "ipython",
    "version": 3
   },
   "file_extension": ".py",
   "mimetype": "text/x-python",
   "name": "python",
   "nbconvert_exporter": "python",
   "pygments_lexer": "ipython3",
   "version": "3.8.10"
  },
  "orig_nbformat": 4,
  "vscode": {
   "interpreter": {
    "hash": "ac4bf51aad2b6257eb3b8d9b68fccd0a6850f0623baea5d87ff3dc3e173853f7"
   }
  }
 },
 "nbformat": 4,
 "nbformat_minor": 2
}
